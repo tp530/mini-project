{
 "cells": [
  {
   "cell_type": "code",
   "execution_count": null,
   "metadata": {},
   "outputs": [],
   "source": [
    "\"\"\"\n",
    "Enables HiDPI rendering of matplotlib charts on Apple Retina displays.\n",
    "Comment out the line below if the matplotlib plots don’t look right on your computer.\n",
    "\"\"\"\n",
    "%config InlineBackend.figure_format = \"retina\"\n",
    "\n",
    "# Library imports\n",
    "import os\n",
    "from scipy.special import binom\n",
    "import matplotlib.pyplot as plt\n",
    "from PIL import Image, ImageEnhance\n",
    "import numpy as np\n",
    "from sklearn.preprocessing import normalize\n",
    "\n",
    "from generator import Zernike_generator\n",
    "from mip import Microscopy_image_processor\n",
    "from plot import Plot\n",
    "from dataset import Dataset\n",
    "\n",
    "# Keep set to 1 for reproducability of the results.\n",
    "np.random.seed(1)"
   ]
  },
  {
   "cell_type": "code",
   "execution_count": null,
   "metadata": {},
   "outputs": [],
   "source": [
    "# Download and extract the dataset if it’s not present.\n",
    "\n",
    "local_data_folder = os.path.join(os.path.abspath(os.getcwd()), \"data\")\n",
    "dataset_ulr = \"https://www.robots.ox.ac.uk/~vgg/data/dtd/download/dtd-r1.0.1.tar.gz\"\n",
    "\n",
    "Dataset.download_if_missing(local_data_folder, dataset_ulr)"
   ]
  },
  {
   "cell_type": "code",
   "execution_count": null,
   "metadata": {},
   "outputs": [],
   "source": [
    "# Calculate the pupil radius\n",
    "\n",
    "# Numerical aperture \n",
    "na = 1.2\n",
    "\n",
    "# Pixel size of the microscope’s camera divided by the magnification of the objective’s lens \n",
    "pixel_size = 100 # nanometers\n",
    "\n",
    "# Wavelength of the light used for imaging\n",
    "wavelength = 250 # nanometers\n",
    "\n",
    "fractional_pupil_radius = (na * pixel_size) / wavelength\n",
    "\n",
    "print(f\"Fractional pupil radius: {fractional_pupil_radius}\")\n",
    "\n",
    "# Create an instance of the generator\n",
    "\n",
    "generator = Zernike_generator(64, 3, fractional_pupil_radius)\n",
    "\n",
    "# Apply defocus\n",
    "generator.add_aberration(2, 0, 1)\n",
    "\n",
    "# Apply vertical astigmatism\n",
    "generator.add_aberration(2, 2, 1)\n",
    "\n",
    "# Apply horizontal tilt\n",
    "generator.add_aberration(1, 1, 1)\n",
    "\n",
    "# Apply oblique astigmatism\n",
    "generator.add_aberration(2, -2, 1)\n",
    "\n",
    "Plot.matrix(generator.get_raw_matrix())"
   ]
  },
  {
   "cell_type": "code",
   "execution_count": null,
   "metadata": {},
   "outputs": [],
   "source": [
    "# Get point spread function\n",
    "\n",
    "Plot.matrix(generator.get_normalized_psf())"
   ]
  },
  {
   "cell_type": "code",
   "execution_count": null,
   "metadata": {},
   "outputs": [],
   "source": [
    "# Load an image\n",
    "\n",
    "image_file_path = \"./data/blotchy_0109.jpg\"\n",
    "\n",
    "image = Microscopy_image_processor.load_as_preprocessed_image(image_file_path, 256)\n",
    "Plot.normalized_mono_image(image)"
   ]
  },
  {
   "cell_type": "code",
   "execution_count": null,
   "metadata": {},
   "outputs": [],
   "source": [
    "# Change brightness and contrast\n",
    "\n",
    "image = Microscopy_image_processor.apply_microscopy_visual_atrifacts(image)\n",
    "Plot.normalized_mono_image(image)"
   ]
  },
  {
   "cell_type": "code",
   "execution_count": null,
   "metadata": {},
   "outputs": [],
   "source": [
    "# Plot a histogram \n",
    "\n",
    "Plot.normalized_image_histogram(image)"
   ]
  },
  {
   "cell_type": "code",
   "execution_count": null,
   "metadata": {},
   "outputs": [],
   "source": [
    "# Apply PSF to the image\n",
    "\n",
    "image = generator.apply_psf_to_image(image)\n",
    "image = Microscopy_image_processor.inflate_channels(image)\n",
    "Plot.normalized_mono_image(image)"
   ]
  }
 ],
 "metadata": {
  "kernelspec": {
   "display_name": "mini",
   "language": "python",
   "name": "python3"
  },
  "language_info": {
   "codemirror_mode": {
    "name": "ipython",
    "version": 3
   },
   "file_extension": ".py",
   "mimetype": "text/x-python",
   "name": "python",
   "nbconvert_exporter": "python",
   "pygments_lexer": "ipython3",
   "version": "3.9.16"
  },
  "orig_nbformat": 4
 },
 "nbformat": 4,
 "nbformat_minor": 2
}
